{
  "nbformat": 4,
  "nbformat_minor": 0,
  "metadata": {
    "colab": {
      "provenance": [],
      "authorship_tag": "ABX9TyN3rqSZWNXVYTC5Amb/Qj7f",
      "include_colab_link": true
    },
    "kernelspec": {
      "name": "python3",
      "display_name": "Python 3"
    },
    "language_info": {
      "name": "python"
    }
  },
  "cells": [
    {
      "cell_type": "markdown",
      "metadata": {
        "id": "view-in-github",
        "colab_type": "text"
      },
      "source": [
        "<a href=\"https://colab.research.google.com/github/opieeipo/AppliedAI/blob/main/bcg_powerco_model_playground.ipynb\" target=\"_parent\"><img src=\"https://colab.research.google.com/assets/colab-badge.svg\" alt=\"Open In Colab\"/></a>"
      ]
    },
    {
      "cell_type": "code",
      "execution_count": null,
      "metadata": {
        "id": "qt0kGXd80_4z"
      },
      "outputs": [],
      "source": [
        "import pandas as pd\n",
        "import numpy as np\n",
        "from datetime import datetime\n",
        "import matplotlib.pyplot as plt\n",
        "import seaborn as cat\n",
        "from sklearn.preprocessing import LabelEncoder\n",
        "\n",
        "#define the Google Drive Paths to the datasets\n",
        "client_data_csv=\"https://drive.google.com/uc?export=download&id=1LV1SljPvIV-i3e4Zr0K5F7Z8LXm_VxKv\"\n",
        "ml_case_test_data_csv=\"https://drive.google.com/uc?export=download&id=1pG_pSBiOuiWI9bcv0yC38wgj3rtQnMY2\"\n",
        "ml_case_test_output_template_csv=\"https://drive.google.com/uc?export=download&id=1lkxO3b5y6LGMJz_ngVfxTLYqET9grdoQ\"\n",
        "price_data_csv=\"https://drive.google.com/uc?export=download&id=1WfLL1g11nEedq5JPyEBYI9f_QVl8YBaU\"\n",
        "\n",
        "# Load the client dataset\n",
        "try:\n",
        "  client = pd.read_csv(client_data_csv,\n",
        "                       sep=',',         # Change if delimiter is not comma (e.g., ';', '\\t')\n",
        "                       encoding='utf-8', # Change if file is not UTF-8 (e.g., 'latin1', 'iso-8859-1')\n",
        "                       header=0,        # Set to None if no header, or specific row number if different\n",
        "                       skiprows=0       # Number of rows to skip from the beginning\n",
        "                       )\n",
        "  print(client.head())\n",
        "  client.head(5)\n",
        "except pd.errors.ParserError as e:\n",
        "    print(f\"Still getting a ParserError: {e}\")\n",
        "    print(\"This often means the data format in the CSV is inconsistent.\")\n",
        "    print(\"Carefully inspect your CSV file in a text editor for malformed lines.\")\n",
        "except Exception as e:\n",
        "    print(f\"An unexpected error occurred: {e}\")\n"
      ]
    },
    {
      "cell_type": "code",
      "source": [],
      "metadata": {
        "id": "qCmaGVAz2GXV"
      },
      "execution_count": null,
      "outputs": []
    }
  ]
}